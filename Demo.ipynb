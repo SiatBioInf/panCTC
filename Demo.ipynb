{
 "cells": [
  {
   "cell_type": "code",
   "execution_count": 1,
   "id": "7877abfc",
   "metadata": {
    "ExecuteTime": {
     "end_time": "2024-06-20T03:03:24.508836Z",
     "start_time": "2024-06-20T03:03:21.249048Z"
    },
    "scrolled": true
   },
   "outputs": [
    {
     "name": "stdout",
     "output_type": "stream",
     "text": [
      "[1] \"There are 5 CTCs predicted in the PBMC!\"\n",
      "[1] \"Total remaining cells in PBMC: 5\"\n",
      "[1] \"CTC direction rate: 5/7=71.43%\"\n",
      "[1] \"----------------\"\n",
      "[1] \"Input file for model 2 is generated!\"\n",
      "                   Pred_label  Probability\n",
      "0  non-small cell lung cancer          0.6\n",
      "1          endometrium cancer          0.4\n"
     ]
    }
   ],
   "source": [
    "import warnings\n",
    "warnings.filterwarnings('ignore')\n",
    "\n",
    "# load package\n",
    "from Py_panCTC_pred import main\n",
    "\n",
    "# define the file name of the .rds file, make sure it is in the \"input\" folder\n",
    "sp_name = 'BM_P34_primaryCancer_counts_edited'\n",
    "main(sp_name)"
   ]
  },
  {
   "cell_type": "code",
   "execution_count": 2,
   "id": "6998bf7b",
   "metadata": {
    "ExecuteTime": {
     "end_time": "2024-06-20T03:03:24.523786Z",
     "start_time": "2024-06-20T03:03:24.510832Z"
    }
   },
   "outputs": [
    {
     "data": {
      "text/html": [
       "<div>\n",
       "<style scoped>\n",
       "    .dataframe tbody tr th:only-of-type {\n",
       "        vertical-align: middle;\n",
       "    }\n",
       "\n",
       "    .dataframe tbody tr th {\n",
       "        vertical-align: top;\n",
       "    }\n",
       "\n",
       "    .dataframe thead th {\n",
       "        text-align: right;\n",
       "    }\n",
       "</style>\n",
       "<table border=\"1\" class=\"dataframe\">\n",
       "  <thead>\n",
       "    <tr style=\"text-align: right;\">\n",
       "      <th></th>\n",
       "      <th>Sample_name</th>\n",
       "      <th>Predict</th>\n",
       "    </tr>\n",
       "  </thead>\n",
       "  <tbody>\n",
       "    <tr>\n",
       "      <th>Bre.BM_P34_tissue_1_4</th>\n",
       "      <td>BM_P34_primaryCancer_counts_edited</td>\n",
       "      <td>1</td>\n",
       "    </tr>\n",
       "    <tr>\n",
       "      <th>Bre.BM_P34_tissue_1_7</th>\n",
       "      <td>BM_P34_primaryCancer_counts_edited</td>\n",
       "      <td>1</td>\n",
       "    </tr>\n",
       "    <tr>\n",
       "      <th>Bre.BM_P34_tissue_1_3</th>\n",
       "      <td>BM_P34_primaryCancer_counts_edited</td>\n",
       "      <td>1</td>\n",
       "    </tr>\n",
       "    <tr>\n",
       "      <th>Bre.BM_P34_tissue_1_2</th>\n",
       "      <td>BM_P34_primaryCancer_counts_edited</td>\n",
       "      <td>1</td>\n",
       "    </tr>\n",
       "    <tr>\n",
       "      <th>Bre.BM_P34_tissue_1_1</th>\n",
       "      <td>BM_P34_primaryCancer_counts_edited</td>\n",
       "      <td>1</td>\n",
       "    </tr>\n",
       "  </tbody>\n",
       "</table>\n",
       "</div>"
      ],
      "text/plain": [
       "                                              Sample_name  Predict\n",
       "Bre.BM_P34_tissue_1_4  BM_P34_primaryCancer_counts_edited        1\n",
       "Bre.BM_P34_tissue_1_7  BM_P34_primaryCancer_counts_edited        1\n",
       "Bre.BM_P34_tissue_1_3  BM_P34_primaryCancer_counts_edited        1\n",
       "Bre.BM_P34_tissue_1_2  BM_P34_primaryCancer_counts_edited        1\n",
       "Bre.BM_P34_tissue_1_1  BM_P34_primaryCancer_counts_edited        1"
      ]
     },
     "execution_count": 2,
     "metadata": {},
     "output_type": "execute_result"
    }
   ],
   "source": [
    "import pandas as pd\n",
    "\n",
    "# check the predictions of model 1\n",
    "pred_model1 = pd.read_csv(f'predict_label_Model1_{sp_name}.csv', index_col=0)\n",
    "pred_model1.head()"
   ]
  },
  {
   "cell_type": "code",
   "execution_count": 3,
   "id": "ef6b7044",
   "metadata": {
    "ExecuteTime": {
     "end_time": "2024-06-20T03:03:24.539732Z",
     "start_time": "2024-06-20T03:03:24.525779Z"
    },
    "scrolled": true
   },
   "outputs": [
    {
     "data": {
      "text/html": [
       "<div>\n",
       "<style scoped>\n",
       "    .dataframe tbody tr th:only-of-type {\n",
       "        vertical-align: middle;\n",
       "    }\n",
       "\n",
       "    .dataframe tbody tr th {\n",
       "        vertical-align: top;\n",
       "    }\n",
       "\n",
       "    .dataframe thead th {\n",
       "        text-align: right;\n",
       "    }\n",
       "</style>\n",
       "<table border=\"1\" class=\"dataframe\">\n",
       "  <thead>\n",
       "    <tr style=\"text-align: right;\">\n",
       "      <th></th>\n",
       "      <th>Label1st</th>\n",
       "      <th>Prob1st</th>\n",
       "      <th>Label2nd</th>\n",
       "      <th>Prob2nd</th>\n",
       "      <th>Label3rd</th>\n",
       "      <th>Prob3rd</th>\n",
       "    </tr>\n",
       "  </thead>\n",
       "  <tbody>\n",
       "    <tr>\n",
       "      <th>0</th>\n",
       "      <td>non-small cell lung cancer</td>\n",
       "      <td>0.9587</td>\n",
       "      <td>gastric cancer</td>\n",
       "      <td>0.0264</td>\n",
       "      <td>prostate cancer</td>\n",
       "      <td>0.0039</td>\n",
       "    </tr>\n",
       "    <tr>\n",
       "      <th>1</th>\n",
       "      <td>non-small cell lung cancer</td>\n",
       "      <td>0.9468</td>\n",
       "      <td>melanoma</td>\n",
       "      <td>0.0169</td>\n",
       "      <td>endometrium cancer</td>\n",
       "      <td>0.0159</td>\n",
       "    </tr>\n",
       "    <tr>\n",
       "      <th>2</th>\n",
       "      <td>endometrium cancer</td>\n",
       "      <td>0.8949</td>\n",
       "      <td>melanoma</td>\n",
       "      <td>0.0293</td>\n",
       "      <td>non-small cell lung cancer</td>\n",
       "      <td>0.0283</td>\n",
       "    </tr>\n",
       "    <tr>\n",
       "      <th>3</th>\n",
       "      <td>non-small cell lung cancer</td>\n",
       "      <td>0.9764</td>\n",
       "      <td>ovary cancer</td>\n",
       "      <td>0.0051</td>\n",
       "      <td>melanoma</td>\n",
       "      <td>0.0050</td>\n",
       "    </tr>\n",
       "    <tr>\n",
       "      <th>4</th>\n",
       "      <td>endometrium cancer</td>\n",
       "      <td>0.5315</td>\n",
       "      <td>ovary cancer</td>\n",
       "      <td>0.2734</td>\n",
       "      <td>non-small cell lung cancer</td>\n",
       "      <td>0.0679</td>\n",
       "    </tr>\n",
       "  </tbody>\n",
       "</table>\n",
       "</div>"
      ],
      "text/plain": [
       "                     Label1st  Prob1st        Label2nd  Prob2nd  \\\n",
       "0  non-small cell lung cancer   0.9587  gastric cancer   0.0264   \n",
       "1  non-small cell lung cancer   0.9468        melanoma   0.0169   \n",
       "2          endometrium cancer   0.8949        melanoma   0.0293   \n",
       "3  non-small cell lung cancer   0.9764    ovary cancer   0.0051   \n",
       "4          endometrium cancer   0.5315    ovary cancer   0.2734   \n",
       "\n",
       "                     Label3rd  Prob3rd  \n",
       "0             prostate cancer   0.0039  \n",
       "1          endometrium cancer   0.0159  \n",
       "2  non-small cell lung cancer   0.0283  \n",
       "3                    melanoma   0.0050  \n",
       "4  non-small cell lung cancer   0.0679  "
      ]
     },
     "execution_count": 3,
     "metadata": {},
     "output_type": "execute_result"
    }
   ],
   "source": [
    "# check the predictions of model 2\n",
    "pred_model2 = pd.read_csv(f'predict_label_Model2_{sp_name}.csv', index_col=0)\n",
    "pred_model2.head()"
   ]
  },
  {
   "cell_type": "code",
   "execution_count": null,
   "id": "55a5085e",
   "metadata": {},
   "outputs": [],
   "source": []
  }
 ],
 "metadata": {
  "kernelspec": {
   "display_name": "Python 3 (ipykernel)",
   "language": "python",
   "name": "python3"
  },
  "language_info": {
   "codemirror_mode": {
    "name": "ipython",
    "version": 3
   },
   "file_extension": ".py",
   "mimetype": "text/x-python",
   "name": "python",
   "nbconvert_exporter": "python",
   "pygments_lexer": "ipython3",
   "version": "3.9.7"
  }
 },
 "nbformat": 4,
 "nbformat_minor": 5
}
